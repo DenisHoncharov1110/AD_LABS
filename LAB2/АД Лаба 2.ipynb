{
 "cells": [
  {
   "cell_type": "code",
   "execution_count": null,
   "metadata": {},
   "outputs": [
    {
     "name": "stdout",
     "output_type": "stream",
     "text": [
      "Успешно скачан файл для области ID 1 -> data/VHI_ID_1_20250518_155203.csv\n",
      "Успешно скачан файл для области ID 2 -> data/VHI_ID_2_20250518_155205.csv\n",
      "Успешно скачан файл для области ID 3 -> data/VHI_ID_3_20250518_155206.csv\n",
      "Успешно скачан файл для области ID 4 -> data/VHI_ID_4_20250518_155208.csv\n",
      "Успешно скачан файл для области ID 5 -> data/VHI_ID_5_20250518_155209.csv\n",
      "Успешно скачан файл для области ID 6 -> data/VHI_ID_6_20250518_155210.csv\n",
      "Успешно скачан файл для области ID 7 -> data/VHI_ID_7_20250518_155211.csv\n",
      "Успешно скачан файл для области ID 8 -> data/VHI_ID_8_20250518_155212.csv\n",
      "Успешно скачан файл для области ID 9 -> data/VHI_ID_9_20250518_155212.csv\n",
      "Успешно скачан файл для области ID 10 -> data/VHI_ID_10_20250518_155213.csv\n",
      "Успешно скачан файл для области ID 11 -> data/VHI_ID_11_20250518_155214.csv\n",
      "Успешно скачан файл для области ID 12 -> data/VHI_ID_12_20250518_155215.csv\n",
      "Успешно скачан файл для области ID 13 -> data/VHI_ID_13_20250518_155217.csv\n",
      "Успешно скачан файл для области ID 14 -> data/VHI_ID_14_20250518_155217.csv\n",
      "Успешно скачан файл для области ID 15 -> data/VHI_ID_15_20250518_155218.csv\n",
      "Успешно скачан файл для области ID 16 -> data/VHI_ID_16_20250518_155219.csv\n",
      "Успешно скачан файл для области ID 17 -> data/VHI_ID_17_20250518_155220.csv\n",
      "Успешно скачан файл для области ID 18 -> data/VHI_ID_18_20250518_155221.csv\n",
      "Успешно скачан файл для области ID 19 -> data/VHI_ID_19_20250518_155222.csv\n",
      "Успешно скачан файл для области ID 20 -> data/VHI_ID_20_20250518_155222.csv\n",
      "Успешно скачан файл для области ID 21 -> data/VHI_ID_21_20250518_155223.csv\n",
      "Успешно скачан файл для области ID 22 -> data/VHI_ID_22_20250518_155224.csv\n",
      "Успешно скачан файл для области ID 23 -> data/VHI_ID_23_20250518_155225.csv\n",
      "Успешно скачан файл для области ID 24 -> data/VHI_ID_24_20250518_155226.csv\n",
      "Успешно скачан файл для области ID 25 -> data/VHI_ID_25_20250518_155227.csv\n"
     ]
    }
   ],
   "source": [
    "import os\n",
    "import urllib.request\n",
    "from datetime import datetime\n",
    "\n",
    "if not os.path.exists('data'):\n",
    "    os.makedirs('data')\n",
    "\n",
    "def download_vhi_data(province_id):\n",
    "    now = datetime.now()\n",
    "    timestamp = now.strftime(\"%Y%m%d_%H%M%S\")\n",
    "    url = f\"https://www.star.nesdis.noaa.gov/smcd/emb/vci/VH/get_TS_admin.php?country=UKR&provinceID={province_id}&year1=1981&year2=2024&type=Mean\"\n",
    "    \n",
    "    try:\n",
    "        response = urllib.request.urlopen(url)\n",
    "        content = response.read()\n",
    "        \n",
    "        filename = f\"data/VHI_ID_{province_id}_{timestamp}.csv\"\n",
    "        with open(filename, 'wb') as f:\n",
    "            f.write(content)\n",
    "        \n",
    "        print(f\"Успішно завантажено файл для області ID {province_id} -> {filename}\")\n",
    "    except Exception as e:\n",
    "        print(f\"Помилка при завантаженні області ID {province_id}: {e}\")\n",
    "\n",
    "for province_id in range(1, 26):\n",
    "    download_vhi_data(province_id)\n"
   ]
  },
  {
   "cell_type": "code",
   "execution_count": null,
   "metadata": {},
   "outputs": [
    {
     "name": "stdout",
     "output_type": "stream",
     "text": [
      "⚠️ Пропущено файл: VHI_Донецька_20250319_151735.csv через помилку: Error tokenizing data. C error: Expected 1 fields in line 9, saw 3\n",
      "\n",
      "⚠️ Пропущено файл: VHI_Донецька_20250319_152323.csv через помилку: Error tokenizing data. C error: Expected 1 fields in line 9, saw 3\n",
      "\n",
      "⚠️ Пропущено файл: VHI_Донецька_20250319_152529.csv через помилку: Error tokenizing data. C error: Expected 1 fields in line 9, saw 3\n",
      "\n",
      "✅ Форма зібраного датафрейму: (172773, 9)\n"
     ]
    },
    {
     "data": {
      "text/html": [
       "<div>\n",
       "<style scoped>\n",
       "    .dataframe tbody tr th:only-of-type {\n",
       "        vertical-align: middle;\n",
       "    }\n",
       "\n",
       "    .dataframe tbody tr th {\n",
       "        vertical-align: top;\n",
       "    }\n",
       "\n",
       "    .dataframe thead th {\n",
       "        text-align: right;\n",
       "    }\n",
       "</style>\n",
       "<table border=\"1\" class=\"dataframe\">\n",
       "  <thead>\n",
       "    <tr style=\"text-align: right;\">\n",
       "      <th></th>\n",
       "      <th>year</th>\n",
       "      <th>week</th>\n",
       "      <th>SMN</th>\n",
       "      <th>SMT</th>\n",
       "      <th>VCI</th>\n",
       "      <th>TCI</th>\n",
       "      <th>VHI</th>\n",
       "      <th>empty</th>\n",
       "      <th>area</th>\n",
       "    </tr>\n",
       "  </thead>\n",
       "  <tbody>\n",
       "    <tr>\n",
       "      <th>0</th>\n",
       "      <td>&lt;tt&gt;&lt;pre&gt;1982</td>\n",
       "      <td>1.0</td>\n",
       "      <td>0.059</td>\n",
       "      <td>258.24</td>\n",
       "      <td>51.11</td>\n",
       "      <td>48.78</td>\n",
       "      <td>49.95</td>\n",
       "      <td>NaN</td>\n",
       "      <td>10</td>\n",
       "    </tr>\n",
       "    <tr>\n",
       "      <th>1</th>\n",
       "      <td>1982</td>\n",
       "      <td>2.0</td>\n",
       "      <td>0.063</td>\n",
       "      <td>261.53</td>\n",
       "      <td>55.89</td>\n",
       "      <td>38.20</td>\n",
       "      <td>47.04</td>\n",
       "      <td>NaN</td>\n",
       "      <td>10</td>\n",
       "    </tr>\n",
       "    <tr>\n",
       "      <th>2</th>\n",
       "      <td>1982</td>\n",
       "      <td>3.0</td>\n",
       "      <td>0.063</td>\n",
       "      <td>263.45</td>\n",
       "      <td>57.30</td>\n",
       "      <td>32.69</td>\n",
       "      <td>44.99</td>\n",
       "      <td>NaN</td>\n",
       "      <td>10</td>\n",
       "    </tr>\n",
       "    <tr>\n",
       "      <th>3</th>\n",
       "      <td>1982</td>\n",
       "      <td>4.0</td>\n",
       "      <td>0.061</td>\n",
       "      <td>265.10</td>\n",
       "      <td>53.96</td>\n",
       "      <td>28.62</td>\n",
       "      <td>41.29</td>\n",
       "      <td>NaN</td>\n",
       "      <td>10</td>\n",
       "    </tr>\n",
       "    <tr>\n",
       "      <th>4</th>\n",
       "      <td>1982</td>\n",
       "      <td>5.0</td>\n",
       "      <td>0.058</td>\n",
       "      <td>266.42</td>\n",
       "      <td>46.87</td>\n",
       "      <td>28.57</td>\n",
       "      <td>37.72</td>\n",
       "      <td>NaN</td>\n",
       "      <td>10</td>\n",
       "    </tr>\n",
       "  </tbody>\n",
       "</table>\n",
       "</div>"
      ],
      "text/plain": [
       "            year  week    SMN     SMT    VCI    TCI    VHI  empty  area\n",
       "0  <tt><pre>1982   1.0  0.059  258.24  51.11  48.78  49.95    NaN    10\n",
       "1           1982   2.0  0.063  261.53  55.89  38.20  47.04    NaN    10\n",
       "2           1982   3.0  0.063  263.45  57.30  32.69  44.99    NaN    10\n",
       "3           1982   4.0  0.061  265.10  53.96  28.62  41.29    NaN    10\n",
       "4           1982   5.0  0.058  266.42  46.87  28.57  37.72    NaN    10"
      ]
     },
     "execution_count": 2,
     "metadata": {},
     "output_type": "execute_result"
    }
   ],
   "source": [
    "import pandas as pd\n",
    "import os\n",
    "\n",
    "headers = ['year', 'week', 'SMN', 'SMT', 'VCI', 'TCI', 'VHI', 'empty']\n",
    "all_dataframes = []\n",
    "\n",
    "for filename in os.listdir('data'):\n",
    "    if filename.endswith('.csv'):\n",
    "        filepath = os.path.join('data', filename)\n",
    "        \n",
    "        try:\n",
    "            df = pd.read_csv(filepath, header=1, names=headers)\n",
    "            df = df[df['VHI'] != -1]\n",
    "\n",
    "            province_id = int(filename.split('_')[2])\n",
    "            df['area'] = province_id\n",
    "\n",
    "            all_dataframes.append(df)\n",
    "        except Exception as e:\n",
    "            print(f\"Пропущено файл: {filename} через помилку: {e}\")\n",
    "\n",
    "full_df = pd.concat(all_dataframes, ignore_index=True)\n",
    "print(f\"Форма зібраного датафрейму: {full_df.shape}\")\n",
    "full_df.head()\n"
   ]
  },
  {
   "cell_type": "code",
   "execution_count": null,
   "metadata": {},
   "outputs": [
    {
     "name": "stdout",
     "output_type": "stream",
     "text": [
      "Унікальні назви областей:\n",
      "['Кіровоградська' 'Луганська' 'Львівська' 'Миколаївська' 'Одеська'\n",
      " 'Полтавська' 'Рівненська' 'Сумська' 'Тернопільська' 'Харківська'\n",
      " 'Вінницька' 'Херсонська' 'Хмельницька' 'Черкаська' 'Чернівецька'\n",
      " 'Чернігівська' 'Республіка Крим' 'Волинська' 'Дніпропетровська'\n",
      " 'Донецька' 'Житомирська' 'Закарпатська' 'Запорізька' 'Івано-Франківська'\n",
      " 'Київська']\n"
     ]
    }
   ],
   "source": [
    "province_names = {\n",
    "    1: 'Вінницька', 2: 'Волинська', 3: 'Дніпропетровська', 4: 'Донецька',\n",
    "    5: 'Житомирська', 6: 'Закарпатська', 7: 'Запорізька', 8: 'Івано-Франківська',\n",
    "    9: 'Київська', 10: 'Кіровоградська', 11: 'Луганська', 12: 'Львівська',\n",
    "    13: 'Миколаївська', 14: 'Одеська', 15: 'Полтавська', 16: 'Рівненська',\n",
    "    17: 'Сумська', 18: 'Тернопільська', 19: 'Харківська', 20: 'Херсонська',\n",
    "    21: 'Хмельницька', 22: 'Черкаська', 23: 'Чернівецька', 24: 'Чернігівська',\n",
    "    25: 'Республіка Крим'\n",
    "}\n",
    "\n",
    "full_df = pd.concat(all_dataframes, ignore_index=True)\n",
    "province_names = {\n",
    "    1: 'Вінницька', 2: 'Волинська', 3: 'Дніпропетровська', 4: 'Донецька',\n",
    "    5: 'Житомирська', 6: 'Закарпатська', 7: 'Запорізька', 8: 'Івано-Франківська',\n",
    "    9: 'Київська', 10: 'Кіровоградська', 11: 'Луганська', 12: 'Львівська',\n",
    "    13: 'Миколаївська', 14: 'Одеська', 15: 'Полтавська', 16: 'Рівненська',\n",
    "    17: 'Сумська', 18: 'Тернопільська', 19: 'Харківська', 20: 'Херсонська',\n",
    "    21: 'Хмельницька', 22: 'Черкаська', 23: 'Чернівецька', 24: 'Чернігівська',\n",
    "    25: 'Республіка Крим'\n",
    "}\n",
    "\n",
    "full_df['area'] = full_df['area'].replace(province_names)\n",
    "\n",
    "valid_areas = list(province_names.values())\n",
    "full_df = full_df[full_df['area'].isin(valid_areas)].copy()\n",
    "\n",
    "print(\"Унікальні назви областей:\")\n",
    "print(full_df['area'].unique())\n"
   ]
  },
  {
   "cell_type": "code",
   "execution_count": null,
   "metadata": {},
   "outputs": [
    {
     "name": "stdout",
     "output_type": "stream",
     "text": [
      "📈 VHI для області: Київська, рік: 2005\n"
     ]
    }
   ],
   "source": [
    "def get_vhi_by_region_and_year(df, region_name, year):\n",
    "    print(f\"VHI для області: {region_name}, рік: {year}\")\n",
    "    result = df[(df['area'] == region_name) & (df['year'] == year)][['week', 'VHI']]\n",
    "    return result.reset_index(drop=True)\n",
    "\n",
    "get_vhi_by_region_and_year(full_df, 'Київська', 2005)\n",
    "\n",
    "def get_vhi_statistics(df, region_name, year):\n",
    "    data = df[(df['area'] == region_name) & (df['year'] == year)]['VHI']\n",
    "    print(f\"📊 Статистика для {region_name} у {year} році:\")\n",
    "    print(f\"  Мінімум:  {data.min():.2f}\")\n",
    "    print(f\"  Максимум: {data.max():.2f}\")\n",
    "    print(f\"  Середнє:  {data.mean():.2f}\")\n",
    "    print(f\"  Медіана:  {data.median():.2f}\")\n",
    "\n",
    "def get_vhi_by_years_range(df, region_name, start_year, end_year):\n",
    "    print(f\"📆 VHI для області {region_name}, з {start_year} по {end_year}:\")\n",
    "    return df[(df['area'] == region_name) & \n",
    "              (df['year'] >= start_year) & \n",
    "              (df['year'] <= end_year)][['year', 'week', 'VHI']].reset_index(drop=True)\n",
    "\n",
    "def detect_extreme_drought_years(df, threshold=15, min_regions=5):\n",
    "    years = df['year'].unique()\n",
    "    drought_years = []\n",
    "\n",
    "    for year in years:\n",
    "        drought_df = df[(df['year'] == year) & (df['VHI'] <= threshold)]\n",
    "        regions_with_drought = drought_df['area'].unique()\n",
    "\n",
    "        if len(regions_with_drought) >= min_regions:\n",
    "            drought_years.append({\n",
    "                'year': year,\n",
    "                'regions': list(regions_with_drought),\n",
    "                'count': len(regions_with_drought)\n",
    "            })\n",
    "\n",
    "    return drought_years\n"
   ]
  },
  {
   "cell_type": "code",
   "execution_count": 12,
   "metadata": {},
   "outputs": [],
   "source": [
    "import matplotlib.pyplot as plt\n",
    "\n",
    "def plot_vhi_for_region_and_year(df, region_name, year):\n",
    "    data = df[(df['area'] == region_name) & (df['year'] == year)]\n",
    "\n",
    "    if data.empty:\n",
    "        print(f\"⚠️ Немає даних для {region_name} у {year} році.\")\n",
    "        return\n",
    "\n",
    "    plt.figure(figsize=(10, 5))\n",
    "    plt.plot(data['week'], data['VHI'], marker='o', linestyle='-')\n",
    "    plt.title(f\"VHI по тижнях для {region_name}, {year}\")\n",
    "    plt.xlabel(\"Тиждень\")\n",
    "    plt.ylabel(\"VHI\")\n",
    "    plt.grid(True)\n",
    "    plt.tight_layout()\n",
    "    plt.show()\n"
   ]
  },
  {
   "cell_type": "code",
   "execution_count": null,
   "metadata": {},
   "outputs": [
    {
     "data": {
      "application/vnd.jupyter.widget-view+json": {
       "model_id": "494b76f3c3394e12af8a40e1e5258f50",
       "version_major": 2,
       "version_minor": 0
      },
      "text/plain": [
       "interactive(children=(Dropdown(description='Область:', options=('Івано-Франківська', 'Волинська', 'Вінницька',…"
      ]
     },
     "metadata": {},
     "output_type": "display_data"
    },
    {
     "data": {
      "text/plain": [
       "<function __main__.interactive_plot(region_name, year)>"
      ]
     },
     "execution_count": 13,
     "metadata": {},
     "output_type": "execute_result"
    }
   ],
   "source": [
    "from ipywidgets import interact\n",
    "import ipywidgets as widgets\n",
    "\n",
    "def interactive_plot(region_name, year):\n",
    "    plot_vhi_for_region_and_year(full_df, region_name, year)\n",
    "\n",
    "interact(\n",
    "    interactive_plot,\n",
    "    region_name=widgets.Dropdown(\n",
    "        options=sorted([name for name in full_df['area'].unique() if isinstance(name, str)]),\n",
    "        description='Область:'\n",
    "    ),\n",
    "    year=widgets.Dropdown(\n",
    "        options=sorted(full_df['year'].dropna().unique()),\n",
    "        description='Рік:'\n",
    "    )\n",
    ")\n"
   ]
  }
 ],
 "metadata": {
  "kernelspec": {
   "display_name": "Python 3",
   "language": "python",
   "name": "python3"
  },
  "language_info": {
   "codemirror_mode": {
    "name": "ipython",
    "version": 3
   },
   "file_extension": ".py",
   "mimetype": "text/x-python",
   "name": "python",
   "nbconvert_exporter": "python",
   "pygments_lexer": "ipython3",
   "version": "3.12.7"
  }
 },
 "nbformat": 4,
 "nbformat_minor": 2
}
